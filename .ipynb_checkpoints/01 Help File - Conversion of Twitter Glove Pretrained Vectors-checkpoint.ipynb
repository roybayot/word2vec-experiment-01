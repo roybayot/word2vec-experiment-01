{
 "cells": [
  {
   "cell_type": "code",
   "execution_count": 11,
   "metadata": {
    "collapsed": false
   },
   "outputs": [
    {
     "data": {
      "text/plain": [
       "'This is before I turned it into a script. Most of this file has been patterned from https://github.com/manasRK/glove-gensim'"
      ]
     },
     "execution_count": 11,
     "metadata": {},
     "output_type": "execute_result"
    }
   ],
   "source": [
    "\"\"\"This is before I turned it into a script. Most of this file has been patterned from https://github.com/manasRK/glove-gensim\"\"\""
   ]
  },
  {
   "cell_type": "code",
   "execution_count": 12,
   "metadata": {
    "collapsed": true
   },
   "outputs": [],
   "source": [
    "import gensim\n",
    "import sys\n",
    "import getopt"
   ]
  },
  {
   "cell_type": "code",
   "execution_count": 13,
   "metadata": {
    "collapsed": true
   },
   "outputs": [],
   "source": [
    "def getNumLines(inputFile):\n",
    "    num_lines = sum(1 for line in open(inputFile))\n",
    "    return num_lines"
   ]
  },
  {
   "cell_type": "code",
   "execution_count": 21,
   "metadata": {
    "collapsed": true
   },
   "outputs": [],
   "source": [
    "def getNumDims(inputFile):\n",
    "    a = open(inputFile)\n",
    "    oneLine = a.readline()\n",
    "    listOfTermsInLine = oneLine.split(\" \")\n",
    "    lenOneLine = len(listOfTermsInLine)\n",
    "    dim = lenOneLine-1\n",
    "    a.close()\n",
    "    return dim"
   ]
  },
  {
   "cell_type": "code",
   "execution_count": null,
   "metadata": {
    "collapsed": true
   },
   "outputs": [],
   "source": [
    "def writeTempLengthFile(numLines, numDims):\n",
    "    temp_file = \"temp_file_with_length\"\n",
    "    with open(temp_file,'w') as f:\n",
    "        f.write(str(numLines)+ \" \" +str(numDims) + '\\n')\n",
    "    f.close()\n",
    "    \n",
    "    return temp_file\n"
   ]
  },
  {
   "cell_type": "code",
   "execution_count": 22,
   "metadata": {
    "collapsed": false
   },
   "outputs": [],
   "source": [
    "def getRelevantFiles(argv):\n",
    "   inputFile = ''\n",
    "   outputFile = ''\n",
    "   try:\n",
    "      opts, args = getopt.getopt(argv,\"hi:o:\",[\"ifile=\",\"ofile=\"])\n",
    "   except getopt.GetoptError:\n",
    "      print './makeTwitterGloveFileCompatibleForGensim.py -i <input file> -o <output file>'\n",
    "      print 'The input file is one of the models from http://nlp.stanford.edu/data/glove.twitter.27B.zip.\\nThe output file is just a name for your output file.'\n",
    "      sys.exit(2)\n",
    "   for opt, arg in opts:\n",
    "      if opt == '-h':\n",
    "         print './makeTwitterGloveFileCompatibleForGensim.py -i <input file> -o <output file>'\n",
    "         print 'The input directory should contain all the training files. \\nThe output directory will be where the models are stored.'\n",
    "         sys.exit()\n",
    "      elif opt in (\"-i\", \"--ifile\"):\n",
    "         inputFile = arg\n",
    "      elif opt in (\"-o\", \"--ofile\"):\n",
    "         outputFile = arg   \n",
    "   return inputFile, outputFile"
   ]
  },
  {
   "cell_type": "code",
   "execution_count": 25,
   "metadata": {
    "collapsed": false
   },
   "outputs": [],
   "source": [
    "def main(argv):\n",
    "    #inputFile, outputFile = getRelevantFiles(argv)\n",
    "    inputFile = \"glove.twitter.27B.25d.txt\"\n",
    "    \n",
    "    numLines = getNumLines(inputFile)\n",
    "    numDims = getNumDims(inputFile)\n",
    "    "
   ]
  },
  {
   "cell_type": "code",
   "execution_count": 26,
   "metadata": {
    "collapsed": false
   },
   "outputs": [],
   "source": [
    "if __name__ == \"__main__\":\n",
    "   main(sys.argv[1:])"
   ]
  },
  {
   "cell_type": "code",
   "execution_count": null,
   "metadata": {
    "collapsed": true
   },
   "outputs": [],
   "source": []
  },
  {
   "cell_type": "code",
   "execution_count": 46,
   "metadata": {
    "collapsed": false
   },
   "outputs": [],
   "source": []
  },
  {
   "cell_type": "code",
   "execution_count": 47,
   "metadata": {
    "collapsed": false
   },
   "outputs": [],
   "source": []
  },
  {
   "cell_type": "code",
   "execution_count": 48,
   "metadata": {
    "collapsed": false
   },
   "outputs": [
    {
     "data": {
      "text/plain": [
       "26"
      ]
     },
     "execution_count": 48,
     "metadata": {},
     "output_type": "execute_result"
    }
   ],
   "source": []
  },
  {
   "cell_type": "code",
   "execution_count": 49,
   "metadata": {
    "collapsed": false
   },
   "outputs": [
    {
     "data": {
      "text/plain": [
       "[',',\n",
       " '0.84705',\n",
       " '-1.0349',\n",
       " '-0.050419',\n",
       " '0.27164',\n",
       " '-0.58659',\n",
       " '0.99514',\n",
       " '0.25267',\n",
       " '1.6963',\n",
       " '0.10313',\n",
       " '0.80073',\n",
       " '0.74655',\n",
       " '-1.2667',\n",
       " '-4.036',\n",
       " '-0.22557',\n",
       " '0.16322',\n",
       " '-0.67015',\n",
       " '-0.64812',\n",
       " '0.010373',\n",
       " '-0.71889',\n",
       " '-0.74997',\n",
       " '0.24862',\n",
       " '0.10319',\n",
       " '-1.1732',\n",
       " '0.58196',\n",
       " '0.33846\\n']"
      ]
     },
     "execution_count": 49,
     "metadata": {},
     "output_type": "execute_result"
    }
   ],
   "source": []
  },
  {
   "cell_type": "code",
   "execution_count": null,
   "metadata": {
    "collapsed": true
   },
   "outputs": [],
   "source": []
  }
 ],
 "metadata": {
  "kernelspec": {
   "display_name": "Python 2",
   "language": "python",
   "name": "python2"
  },
  "language_info": {
   "codemirror_mode": {
    "name": "ipython",
    "version": 2
   },
   "file_extension": ".py",
   "mimetype": "text/x-python",
   "name": "python",
   "nbconvert_exporter": "python",
   "pygments_lexer": "ipython2",
   "version": "2.7.6"
  }
 },
 "nbformat": 4,
 "nbformat_minor": 0
}
