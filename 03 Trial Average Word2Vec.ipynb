{
 "cells": [
  {
   "cell_type": "code",
   "execution_count": 69,
   "metadata": {
    "collapsed": true
   },
   "outputs": [],
   "source": [
    "import gensim\n",
    "import pandas as pd\n",
    "import numpy as np\n",
    "import sys\n",
    "import os\n",
    "import itertools\n",
    "\n",
    "import sklearn\n",
    "from sklearn import cross_validation\n",
    "from sklearn import svm\n",
    "from sklearn import metrics\n",
    "\n",
    "from scipy import stats\n",
    "from bs4 import BeautifulSoup\n",
    "reload(sys)\n",
    "sys.setdefaultencoding(\"UTF-8\")"
   ]
  },
  {
   "cell_type": "code",
   "execution_count": 70,
   "metadata": {
    "collapsed": true
   },
   "outputs": [],
   "source": [
    "def clean_text(raw_text):\n",
    "    review_text = BeautifulSoup(raw_text).get_text()\n",
    "    words = review_text.lower().split()\n",
    "    return(\" \".join(words))"
   ]
  },
  {
   "cell_type": "code",
   "execution_count": 71,
   "metadata": {
    "collapsed": true
   },
   "outputs": [],
   "source": [
    "def makeFeatureVec(words, model, num_features):\n",
    "    # Function to average all of the word vectors in a given\n",
    "    # paragraph\n",
    "    #\n",
    "    # Pre-initialize an empty numpy array (for speed)\n",
    "    featureVec = np.zeros((num_features,),dtype=\"float32\")\n",
    "    #\n",
    "    nwords = 0.\n",
    "    #\n",
    "    # Index2word is a list that contains the names of the words in\n",
    "    # the model's vocabulary. Convert it to a set, for speed\n",
    "    index2word_set = set(model.index2word)\n",
    "    #\n",
    "    # Loop over each word in the review and, if it is in the model's\n",
    "    # vocaublary, add its feature vector to the total\n",
    "    for word in words:\n",
    "        if word in index2word_set:\n",
    "            nwords = nwords + 1.\n",
    "            featureVec = np.add(featureVec,model[word])\n",
    "    #\n",
    "    # Divide the result by the number of words to get the average\n",
    "    featureVec = np.divide(featureVec,nwords)\n",
    "    return featureVec"
   ]
  },
  {
   "cell_type": "code",
   "execution_count": 72,
   "metadata": {
    "collapsed": true
   },
   "outputs": [],
   "source": [
    "def getAvgFeatureVecs(all_texts, model, num_features):\n",
    "    # Given a set of reviews (each one a list of words), calculate\n",
    "    # the average feature vector for each one and return a 2D numpy array\n",
    "    #\n",
    "    # Initialize a counter\n",
    "    counter = 0.\n",
    "    #\n",
    "    # Preallocate a 2D numpy array, for speed\n",
    "    reviewFeatureVecs = np.zeros((len(all_texts),num_features),dtype=\"float32\")\n",
    "    #\n",
    "    # Loop through the reviews\n",
    "    for one_line in all_texts:\n",
    "       reviewFeatureVecs[counter] = makeFeatureVec(one_line, model, num_features)\n",
    "       #\n",
    "       # Increment the counter\n",
    "       counter = counter + 1.\n",
    "    return reviewFeatureVecs"
   ]
  },
  {
   "cell_type": "code",
   "execution_count": 73,
   "metadata": {
    "collapsed": true
   },
   "outputs": [],
   "source": [
    "# Getting a Glove Model\n",
    "model_files = [\"new.glove.twitter.27B.25d.txt\", \"new.glove.twitter.27B.50d.txt\", \n",
    "               \"new.glove.twitter.27B.100d.txt\", \"new.glove.twitter.27B.200d.txt\"]\n",
    "list_of_num_features = [25, 50, 100, 200]\n",
    "\n",
    "languages = [\"english\"]\n",
    "datafiles = [\"summary-english-truth.txt\"]\n",
    "tasks = [\"age\", \"gender\"]\n",
    "scoring_function = 'accuracy'\n",
    "all_results = {}"
   ]
  },
  {
   "cell_type": "code",
   "execution_count": 74,
   "metadata": {
    "collapsed": false
   },
   "outputs": [],
   "source": [
    "for model_file, num_features in zip(model_files, list_of_num_features):\n",
    "    model = gensim.models.Word2Vec.load_word2vec_format(model_file,binary=False)\n",
    "\n",
    "    for language, datafile in zip(languages, datafiles):\n",
    "        train = pd.read_csv(datafile, header=0, delimiter=\"\\t\", quoting=1)\n",
    "        num_text = train[\"text\"].size\n",
    "        clean_train_data = []\n",
    "    \n",
    "        for i in xrange( 0, num_text):\n",
    "            clean_train_data.append( clean_text( train[\"text\"][i] ) )\n",
    "        \n",
    "        trainDataVecs = getAvgFeatureVecs( clean_train_data, model, num_features )\n",
    "        \n",
    "        for task in tasks:\n",
    "            targetVec = train[task]\n",
    "            \n",
    "            #polynomial\n",
    "            degrees = [1,2,3]\n",
    "            C = [10**-3, 1, 10**3]\n",
    "            \n",
    "            poly_list_of_scores = []\n",
    "            for degree in degrees:\n",
    "                for one_C in C:\n",
    "                    clf = svm.SVC(kernel='poly', degree=degree, coef0=one_C, gamma=1)\n",
    "                    scores = cross_validation.cross_val_score(clf, trainDataVecs, targetVec, cv=10, scoring=scoring_function)\n",
    "                    poly_list_of_scores.append(scores)\n",
    "                    \n",
    "                    dict_key = \"dims={} task={} kernel={} degree={} C={}\".format(num_features, task, \"poly\", degree, one_C)\n",
    "                    all_results[dict_key] = scores\n",
    "            #rbf\n",
    "            gammas = [1e-5, 1e-4, 1e-3, 1, 1e3, 1e4, 1e5]\n",
    "            C = [1e-5, 1e-4, 1e-3, 1, 1e3, 1e4, 1e5]\n",
    "            \n",
    "            rbf_list_of_scores = []\n",
    "            for g in gammas:\n",
    "                for one_C in C:\n",
    "                    clf = svm.SVC(kernel='rbf', gamma=g, C=one_C)\n",
    "                    scores = cross_validation.cross_val_score(clf, trainDataVecs, targetVec, cv=10, scoring=scoring_function)\n",
    "                    rbf_list_of_scores.append(scores)\n",
    "\n",
    "                    dict_key = \"dims={} task={} kernel={} gamma={} C={}\".format(num_features, task, \"rbf\",g, one_C)\n",
    "                    all_results[dict_key] = scores"
   ]
  },
  {
   "cell_type": "code",
   "execution_count": 75,
   "metadata": {
    "collapsed": false
   },
   "outputs": [
    {
     "data": {
      "text/plain": [
       "0.76964285714285707"
      ]
     },
     "execution_count": 75,
     "metadata": {},
     "output_type": "execute_result"
    }
   ],
   "source": [
    "avg = []\n",
    "for one_key in all_results.keys():\n",
    "    x = all_results[one_key]\n",
    "    one_avg = x.mean()\n",
    "    avg.append(one_avg)\n",
    "a = max(avg)\n",
    "a"
   ]
  },
  {
   "cell_type": "code",
   "execution_count": 76,
   "metadata": {
    "collapsed": true
   },
   "outputs": [],
   "source": [
    "def getAccuracies(all_results):\n",
    "    accuracies_dictionary = {}\n",
    "    for each_key in all_results.keys():\n",
    "        list_of_accuracies = all_results[each_key]\n",
    "        accuracies = list_of_accuracies.mean()\n",
    "        accuracies_dictionary[each_key] = accuracies\n",
    "    return accuracies_dictionary"
   ]
  },
  {
   "cell_type": "code",
   "execution_count": 77,
   "metadata": {
    "collapsed": false
   },
   "outputs": [],
   "source": [
    "accuracies_dictionary = getAccuracies(all_results)\n",
    "all_keys = accuracies_dictionary.keys()\n",
    "all_keys.sort()"
   ]
  },
  {
   "cell_type": "code",
   "execution_count": 92,
   "metadata": {
    "collapsed": false
   },
   "outputs": [],
   "source": [
    "def makePValMatrix(all_results, sorted_keys):\n",
    "    list_length = len(sorted_keys)\n",
    "    p_value_matrix = np.zeros((list_length, list_length))\n",
    "    i = range(0, list_length)\n",
    "    #sig values\n",
    "    \n",
    "    for key_1, x in zip(sorted_keys, i):\n",
    "        for key_2, y in zip(sorted_keys, i):\n",
    "            treatment_1 = all_results[key_1]\n",
    "            treatment_2 = all_results[key_2]\n",
    "            z_stat, p_val = stats.ranksums(treatment_1, treatment_2)\n",
    "            p_value_matrix[x,y] = p_val\n",
    "    return p_value_matrix"
   ]
  },
  {
   "cell_type": "code",
   "execution_count": 87,
   "metadata": {
    "collapsed": false
   },
   "outputs": [
    {
     "data": {
      "text/plain": [
       "array([[  1.00000000e+00,   1.00000000e+00,   1.00000000e+00, ...,\n",
       "          2.12182871e-04,   2.12182871e-04,   2.12182871e-04],\n",
       "       [  1.00000000e+00,   1.00000000e+00,   1.00000000e+00, ...,\n",
       "          2.12182871e-04,   2.12182871e-04,   2.12182871e-04],\n",
       "       [  1.00000000e+00,   1.00000000e+00,   1.00000000e+00, ...,\n",
       "          2.12182871e-04,   2.12182871e-04,   2.12182871e-04],\n",
       "       ..., \n",
       "       [  2.12182871e-04,   2.12182871e-04,   2.12182871e-04, ...,\n",
       "          1.00000000e+00,   1.00000000e+00,   1.00000000e+00],\n",
       "       [  2.12182871e-04,   2.12182871e-04,   2.12182871e-04, ...,\n",
       "          1.00000000e+00,   1.00000000e+00,   1.00000000e+00],\n",
       "       [  2.12182871e-04,   2.12182871e-04,   2.12182871e-04, ...,\n",
       "          1.00000000e+00,   1.00000000e+00,   1.00000000e+00]])"
      ]
     },
     "execution_count": 87,
     "metadata": {},
     "output_type": "execute_result"
    }
   ],
   "source": [
    "p_value_matrix = makePValMatrix(all_results, all_keys)"
   ]
  },
  {
   "cell_type": "code",
   "execution_count": 88,
   "metadata": {
    "collapsed": false
   },
   "outputs": [
    {
     "data": {
      "text/plain": [
       "(464, 464)"
      ]
     },
     "execution_count": 88,
     "metadata": {},
     "output_type": "execute_result"
    }
   ],
   "source": []
  },
  {
   "cell_type": "code",
   "execution_count": 89,
   "metadata": {
    "collapsed": false
   },
   "outputs": [],
   "source": [
    "x = [all_results[a] for a in all_keys]\n",
    "list_of_accuracies = [a.mean() for a in x]"
   ]
  },
  {
   "cell_type": "code",
   "execution_count": 90,
   "metadata": {
    "collapsed": false
   },
   "outputs": [],
   "source": [
    "def turnPValMatrixToExcel(fileName, p_value_matrix, list_of_accuracies):\n",
    "    df = pd.DataFrame(data = p_value_matrix, columns=list_of_accuracies)\n",
    "    df.index = list_of_accuracies\n",
    "    null_disproved = df[df < 0.05]\n",
    "    null_disproved.to_csv(fileName, sep='\\t', encoding='utf-8')"
   ]
  },
  {
   "cell_type": "code",
   "execution_count": 83,
   "metadata": {
    "collapsed": false
   },
   "outputs": [],
   "source": [
    "turnPValMatrixToExcel(\"test_matrix.csv\", p_value_matrix, list_of_accuracies)\n",
    "# not such a good idea. very big matrix. compares all in computer but difficult for person to visualize"
   ]
  },
  {
   "cell_type": "code",
   "execution_count": 106,
   "metadata": {
    "collapsed": true
   },
   "outputs": [],
   "source": [
    "def writeAvgAccuracies(fileName, accuracy_matrix, degrees, C):\n",
    "    df = pd.DataFrame(data = accuracy_matrix, columns=degrees)\n",
    "    df.index = C\n",
    "    df.to_csv(fileName, sep='\\t', encoding='utf-8')"
   ]
  },
  {
   "cell_type": "code",
   "execution_count": 124,
   "metadata": {
    "collapsed": false
   },
   "outputs": [],
   "source": [
    "for num_features in list_of_num_features:\n",
    "    for task in tasks:\n",
    "        \n",
    "        kernel = \"poly\"\n",
    "        degrees = [1,2,3]\n",
    "        C = [10**-3, 1, 10**3]\n",
    "        sorted_keys = [\"dims={} task={} kernel={} degree={} C={}\".format(num_features, task, \"poly\", degree, one_C) for degree, one_C in list(itertools.product(degrees, C))]\n",
    "        sorted_keys.sort()\n",
    "        \n",
    "        p_value_matrix = makePValMatrix(all_results, sorted_keys)\n",
    "        fileName = \"avg-null-disproved-pval-dims{}-task-{}-kernel-{}.csv\".format(num_features, task, kernel)\n",
    "        list_of_accuracies = [all_results[a].mean() for a in sorted_keys]\n",
    "        turnPValMatrixToExcel(fileName, p_value_matrix, sorted_keys)\n",
    "        \n",
    "        rows = len(C)\n",
    "        cols = len(degrees)\n",
    "        accuracy_matrix = np.zeros((rows, cols))\n",
    "        \n",
    "        i = range(0, rows)\n",
    "        j = range(0, cols)\n",
    "        \n",
    "        for degree, x in zip(degrees, i):\n",
    "            for one_C, y in zip(C, j):\n",
    "                key = \"dims={} task={} kernel={} degree={} C={}\".format(num_features, task, \"poly\", degree, one_C)\n",
    "                accuracy_matrix[x, y] = all_results[key].mean()\n",
    "        \n",
    "        fileName = \"accuracy-avg-null-disproved-pval-dims{}-task-{}-kernel-{}.csv\".format(num_features, task, kernel)\n",
    "        writeAvgAccuracies(fileName, accuracy_matrix, degrees, C)\n",
    "        \n",
    "        kernel = \"rbf\"\n",
    "        gammas = [1e-5, 1e-4, 1e-3, 1, 1e3, 1e4, 1e5]\n",
    "        C = [1e-5, 1e-4, 1e-3, 1, 1e3, 1e4, 1e5]\n",
    "        \n",
    "        sorted_keys = [\"dims={} task={} kernel={} gamma={} C={}\".format(num_features, task, \"rbf\", g, one_C) for g, one_C in list(itertools.product(gammas, C))]\n",
    "        sorted_keys.sort()\n",
    "        \n",
    "        p_value_matrix = makePValMatrix(all_results, sorted_keys)\n",
    "        fileName = \"avg-null-disproved-pval-dims{}-task-{}-kernel-{}.csv\".format(num_features, task, kernel)\n",
    "        list_of_accuracies = [all_results[a].mean() for a in sorted_keys]\n",
    "        turnPValMatrixToExcel(fileName, p_value_matrix, sorted_keys)\n",
    "        \n",
    "        rows = len(C)\n",
    "        cols = len(gammas)\n",
    "        accuracy_matrix = np.zeros((rows, cols))\n",
    "        \n",
    "        i = range(0, rows)\n",
    "        j = range(0, cols)\n",
    "        \n",
    "        for g, x in zip(gammas, i):\n",
    "            for one_C, y in zip(C, j):\n",
    "                key = \"dims={} task={} kernel={} gamma={} C={}\".format(num_features, task, \"rbf\", g, one_C)\n",
    "                accuracy_matrix[x, y] = all_results[key].mean()\n",
    "        \n",
    "        fileName = \"accuracy-avg-null-disproved-pval-dims{}-task-{}-kernel-{}.csv\".format(num_features, task, kernel)\n",
    "        writeAvgAccuracies(fileName, accuracy_matrix, gammas, C)\n"
   ]
  },
  {
   "cell_type": "code",
   "execution_count": 97,
   "metadata": {
    "collapsed": false
   },
   "outputs": [],
   "source": []
  },
  {
   "cell_type": "code",
   "execution_count": 116,
   "metadata": {
    "collapsed": false
   },
   "outputs": [
    {
     "ename": "TypeError",
     "evalue": "zip argument #2 must support iteration",
     "output_type": "error",
     "traceback": [
      "\u001b[1;31m---------------------------------------------------------------------------\u001b[0m",
      "\u001b[1;31mTypeError\u001b[0m                                 Traceback (most recent call last)",
      "\u001b[1;32m<ipython-input-116-b61caeb0ec9d>\u001b[0m in \u001b[0;36m<module>\u001b[1;34m()\u001b[0m\n\u001b[0;32m     20\u001b[0m \u001b[1;33m\u001b[0m\u001b[0m\n\u001b[0;32m     21\u001b[0m \u001b[1;32mfor\u001b[0m \u001b[0mdegree\u001b[0m\u001b[1;33m,\u001b[0m \u001b[0mx\u001b[0m \u001b[1;32min\u001b[0m \u001b[0mzip\u001b[0m\u001b[1;33m(\u001b[0m\u001b[0mdegrees\u001b[0m\u001b[1;33m,\u001b[0m \u001b[0mx\u001b[0m\u001b[1;33m)\u001b[0m\u001b[1;33m:\u001b[0m\u001b[1;33m\u001b[0m\u001b[0m\n\u001b[1;32m---> 22\u001b[1;33m     \u001b[1;32mfor\u001b[0m \u001b[0mone_C\u001b[0m\u001b[1;33m,\u001b[0m \u001b[0my\u001b[0m \u001b[1;32min\u001b[0m \u001b[0mzip\u001b[0m\u001b[1;33m(\u001b[0m\u001b[0mC\u001b[0m\u001b[1;33m,\u001b[0m \u001b[0my\u001b[0m\u001b[1;33m)\u001b[0m\u001b[1;33m:\u001b[0m\u001b[1;33m\u001b[0m\u001b[0m\n\u001b[0m\u001b[0;32m     23\u001b[0m         \u001b[0mkey\u001b[0m \u001b[1;33m=\u001b[0m \u001b[1;34m\"dims={} task={} kernel={} degree={} C={}\"\u001b[0m\u001b[1;33m.\u001b[0m\u001b[0mformat\u001b[0m\u001b[1;33m(\u001b[0m\u001b[0mnum_features\u001b[0m\u001b[1;33m,\u001b[0m \u001b[0mtask\u001b[0m\u001b[1;33m,\u001b[0m \u001b[1;34m\"poly\"\u001b[0m\u001b[1;33m,\u001b[0m \u001b[0mdegree\u001b[0m\u001b[1;33m,\u001b[0m \u001b[0mone_C\u001b[0m\u001b[1;33m)\u001b[0m\u001b[1;33m\u001b[0m\u001b[0m\n\u001b[0;32m     24\u001b[0m         \u001b[0maccuracy_matrix\u001b[0m\u001b[1;33m[\u001b[0m\u001b[0mx\u001b[0m\u001b[1;33m,\u001b[0m \u001b[0my\u001b[0m\u001b[1;33m]\u001b[0m \u001b[1;33m=\u001b[0m \u001b[0mall_results\u001b[0m\u001b[1;33m[\u001b[0m\u001b[0mkey\u001b[0m\u001b[1;33m]\u001b[0m\u001b[1;33m.\u001b[0m\u001b[0mmean\u001b[0m\u001b[1;33m(\u001b[0m\u001b[1;33m)\u001b[0m\u001b[1;33m\u001b[0m\u001b[0m\n",
      "\u001b[1;31mTypeError\u001b[0m: zip argument #2 must support iteration"
     ]
    }
   ],
   "source": [
    "num_features=25\n",
    "task=\"age\"\n",
    "kernel = \"poly\"\n",
    "degrees = [1,2,3]\n",
    "C = [10**-3, 1, 10**3]\n",
    "sorted_keys = [\"dims={} task={} kernel={} degree={} C={}\".format(num_features, task, \"poly\", degree, one_C) for degree, one_C in list(itertools.product(degrees, C))]\n",
    "sorted_keys.sort()\n",
    "        \n",
    "p_value_matrix = makePValMatrix(all_results, sorted_keys)\n",
    "fileName = \"avg-null-disproved-pval-dims{}-task-{}-kernel-{}.csv\".format(num_features, task, kernel)\n",
    "list_of_accuracies = [all_results[a].mean() for a in sorted_keys]\n",
    "turnPValMatrixToExcel(fileName, p_value_matrix, sorted_keys)\n",
    "        \n",
    "rows = len(C)\n",
    "cols = len(degrees)\n",
    "accuracy_matrix = np.zeros((rows, cols))\n",
    "        \n",
    "i = range(0, rows)\n",
    "j = range(0, cols)\n",
    "        \n",
    "for degree, x in zip(degrees, i):\n",
    "    for one_C, y in zip(C, j):\n",
    "        key = \"dims={} task={} kernel={} degree={} C={}\".format(num_features, task, \"poly\", degree, one_C)\n",
    "        accuracy_matrix[x, y] = all_results[key].mean()\n",
    "        \n",
    "fileName = \"accuracy-avg-null-disproved-pval-dims{}-task-{}-kernel-{}.csv\".format(num_features, task, kernel)\n",
    "writeAvgAccuracies(fileName, accuracy_matrix, degrees, C)"
   ]
  },
  {
   "cell_type": "code",
   "execution_count": 120,
   "metadata": {
    "collapsed": false
   },
   "outputs": [
    {
     "data": {
      "text/plain": [
       "[list, list, int, int]"
      ]
     },
     "execution_count": 120,
     "metadata": {},
     "output_type": "execute_result"
    }
   ],
   "source": [
    "[type(degrees), type(C), type(x), type(y)]"
   ]
  },
  {
   "cell_type": "code",
   "execution_count": 121,
   "metadata": {
    "collapsed": false
   },
   "outputs": [
    {
     "data": {
      "text/plain": [
       "list"
      ]
     },
     "execution_count": 121,
     "metadata": {},
     "output_type": "execute_result"
    }
   ],
   "source": [
    "x=range(0, 3)\n",
    "type(x)"
   ]
  },
  {
   "cell_type": "code",
   "execution_count": 118,
   "metadata": {
    "collapsed": false
   },
   "outputs": [
    {
     "ename": "TypeError",
     "evalue": "zip argument #2 must support iteration",
     "output_type": "error",
     "traceback": [
      "\u001b[1;31m---------------------------------------------------------------------------\u001b[0m",
      "\u001b[1;31mTypeError\u001b[0m                                 Traceback (most recent call last)",
      "\u001b[1;32m<ipython-input-118-e72a5ac33b2e>\u001b[0m in \u001b[0;36m<module>\u001b[1;34m()\u001b[0m\n\u001b[1;32m----> 1\u001b[1;33m \u001b[1;32mfor\u001b[0m \u001b[0mdegree\u001b[0m\u001b[1;33m,\u001b[0m\u001b[0mx\u001b[0m \u001b[1;32min\u001b[0m \u001b[0mzip\u001b[0m\u001b[1;33m(\u001b[0m\u001b[0mdegrees\u001b[0m\u001b[1;33m,\u001b[0m \u001b[0mx\u001b[0m\u001b[1;33m)\u001b[0m\u001b[1;33m:\u001b[0m\u001b[1;33m\u001b[0m\u001b[0m\n\u001b[0m\u001b[0;32m      2\u001b[0m     \u001b[1;32mfor\u001b[0m \u001b[0mone_C\u001b[0m\u001b[1;33m,\u001b[0m\u001b[0my\u001b[0m \u001b[1;32min\u001b[0m \u001b[0mzip\u001b[0m\u001b[1;33m(\u001b[0m\u001b[0mC\u001b[0m\u001b[1;33m,\u001b[0m \u001b[0my\u001b[0m\u001b[1;33m)\u001b[0m\u001b[1;33m:\u001b[0m\u001b[1;33m\u001b[0m\u001b[0m\n\u001b[0;32m      3\u001b[0m         \u001b[1;33m(\u001b[0m\u001b[0mdegree\u001b[0m\u001b[1;33m,\u001b[0m \u001b[0mx\u001b[0m\u001b[1;33m,\u001b[0m \u001b[0mone_C\u001b[0m\u001b[1;33m,\u001b[0m \u001b[0my\u001b[0m\u001b[1;33m)\u001b[0m\u001b[1;33m\u001b[0m\u001b[0m\n",
      "\u001b[1;31mTypeError\u001b[0m: zip argument #2 must support iteration"
     ]
    }
   ],
   "source": [
    "for degree,x in zip(degrees, x):\n",
    "    for one_C,y in zip(C, y):\n",
    "        (degree, x, one_C, y)"
   ]
  },
  {
   "cell_type": "code",
   "execution_count": null,
   "metadata": {
    "collapsed": true
   },
   "outputs": [],
   "source": []
  }
 ],
 "metadata": {
  "kernelspec": {
   "display_name": "Python 2",
   "language": "python",
   "name": "python2"
  },
  "language_info": {
   "codemirror_mode": {
    "name": "ipython",
    "version": 2
   },
   "file_extension": ".py",
   "mimetype": "text/x-python",
   "name": "python",
   "nbconvert_exporter": "python",
   "pygments_lexer": "ipython2",
   "version": "2.7.6"
  }
 },
 "nbformat": 4,
 "nbformat_minor": 0
}
