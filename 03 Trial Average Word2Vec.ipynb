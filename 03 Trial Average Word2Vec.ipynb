{
 "cells": [
  {
   "cell_type": "code",
   "execution_count": 1,
   "metadata": {
    "collapsed": true
   },
   "outputs": [],
   "source": [
    "import gensim\n",
    "import pandas as pd\n",
    "import numpy as np\n",
    "import sys\n",
    "import os\n",
    "\n",
    "import sklearn\n",
    "from sklearn import cross_validation\n",
    "from sklearn import svm\n",
    "from sklearn import metrics\n",
    "\n",
    "from bs4 import BeautifulSoup\n",
    "reload(sys)\n",
    "sys.setdefaultencoding(\"UTF-8\")"
   ]
  },
  {
   "cell_type": "code",
   "execution_count": 2,
   "metadata": {
    "collapsed": true
   },
   "outputs": [],
   "source": [
    "def clean_text(raw_text):\n",
    "    review_text = BeautifulSoup(raw_text).get_text()\n",
    "    words = review_text.lower().split()\n",
    "    return(\" \".join(words))"
   ]
  },
  {
   "cell_type": "code",
   "execution_count": 3,
   "metadata": {
    "collapsed": true
   },
   "outputs": [],
   "source": [
    "def makeFeatureVec(words, model, num_features):\n",
    "    # Function to average all of the word vectors in a given\n",
    "    # paragraph\n",
    "    #\n",
    "    # Pre-initialize an empty numpy array (for speed)\n",
    "    featureVec = np.zeros((num_features,),dtype=\"float32\")\n",
    "    #\n",
    "    nwords = 0.\n",
    "    #\n",
    "    # Index2word is a list that contains the names of the words in\n",
    "    # the model's vocabulary. Convert it to a set, for speed\n",
    "    index2word_set = set(model.index2word)\n",
    "    #\n",
    "    # Loop over each word in the review and, if it is in the model's\n",
    "    # vocaublary, add its feature vector to the total\n",
    "    for word in words:\n",
    "        if word in index2word_set:\n",
    "            nwords = nwords + 1.\n",
    "            featureVec = np.add(featureVec,model[word])\n",
    "    #\n",
    "    # Divide the result by the number of words to get the average\n",
    "    featureVec = np.divide(featureVec,nwords)\n",
    "    return featureVec"
   ]
  },
  {
   "cell_type": "code",
   "execution_count": 4,
   "metadata": {
    "collapsed": true
   },
   "outputs": [],
   "source": [
    "def getAvgFeatureVecs(all_texts, model, num_features):\n",
    "    # Given a set of reviews (each one a list of words), calculate\n",
    "    # the average feature vector for each one and return a 2D numpy array\n",
    "    #\n",
    "    # Initialize a counter\n",
    "    counter = 0.\n",
    "    #\n",
    "    # Preallocate a 2D numpy array, for speed\n",
    "    reviewFeatureVecs = np.zeros((len(all_texts),num_features),dtype=\"float32\")\n",
    "    #\n",
    "    # Loop through the reviews\n",
    "    for one_line in all_texts:\n",
    "       reviewFeatureVecs[counter] = makeFeatureVec(one_line, model, num_features)\n",
    "       #\n",
    "       # Increment the counter\n",
    "       counter = counter + 1.\n",
    "    return reviewFeatureVecs"
   ]
  },
  {
   "cell_type": "code",
   "execution_count": 5,
   "metadata": {
    "collapsed": true
   },
   "outputs": [],
   "source": [
    "# Getting a Glove Model\n",
    "model_file = \"new.glove.twitter.27B.25d.txt\"\n",
    "num_features = 25\n",
    "model = gensim.models.Word2Vec.load_word2vec_format(model_file,binary=False)"
   ]
  },
  {
   "cell_type": "code",
   "execution_count": 6,
   "metadata": {
    "collapsed": false
   },
   "outputs": [],
   "source": [
    "languages = [\"english\"]\n",
    "datafiles = [\"summary-english-truth.txt\"]\n",
    "tasks = [\"age\"]\n",
    "\n",
    "for language, datafile in zip(languages, datafiles):\n",
    "    train = pd.read_csv(datafile, header=0, delimiter=\"\\t\", quoting=1)\n",
    "    num_text = train[\"text\"].size\n",
    "    clean_train_data = []\n",
    "    \n",
    "    for i in xrange( 0, num_text):\n",
    "        clean_train_data.append( clean_text( train[\"text\"][i] ) )\n",
    "        \n",
    "trainDataVecs = getAvgFeatureVecs( clean_train_data, model, num_features )"
   ]
  },
  {
   "cell_type": "code",
   "execution_count": 7,
   "metadata": {
    "collapsed": false
   },
   "outputs": [
    {
     "data": {
      "text/plain": [
       "(152, 25)"
      ]
     },
     "execution_count": 7,
     "metadata": {},
     "output_type": "execute_result"
    }
   ],
   "source": [
    "trainDataVecs.shape"
   ]
  },
  {
   "cell_type": "code",
   "execution_count": 8,
   "metadata": {
    "collapsed": true
   },
   "outputs": [],
   "source": [
    "targetVec = train[\"age\"]"
   ]
  },
  {
   "cell_type": "code",
   "execution_count": 9,
   "metadata": {
    "collapsed": true
   },
   "outputs": [],
   "source": [
    "degrees = [1,2,3]\n",
    "C = [10**-3, 1, 10**3]"
   ]
  },
  {
   "cell_type": "code",
   "execution_count": 10,
   "metadata": {
    "collapsed": true
   },
   "outputs": [],
   "source": [
    "list_of_scores = []\n",
    "for degree in degrees:\n",
    "    for one_C in C:\n",
    "        clf = svm.SVC(kernel='poly', degree=degree, coef0=one_C, gamma=1)\n",
    "        scoring_function = 'accuracy'\n",
    "        scores = cross_validation.cross_val_score(clf, trainDataVecs, targetVec, cv=10, scoring=scoring_function)\n",
    "        list_of_scores.append(scores)"
   ]
  },
  {
   "cell_type": "code",
   "execution_count": 11,
   "metadata": {
    "collapsed": false
   },
   "outputs": [
    {
     "data": {
      "text/plain": [
       "[array([ 0.35294118,  0.35294118,  0.4       ,  0.4       ,  0.4       ,\n",
       "         0.4       ,  0.4       ,  0.4       ,  0.42857143,  0.42857143]),\n",
       " array([ 0.35294118,  0.35294118,  0.4       ,  0.4       ,  0.4       ,\n",
       "         0.4       ,  0.4       ,  0.4       ,  0.42857143,  0.42857143]),\n",
       " array([ 0.35294118,  0.35294118,  0.4       ,  0.4       ,  0.4       ,\n",
       "         0.4       ,  0.4       ,  0.4       ,  0.42857143,  0.42857143]),\n",
       " array([ 0.35294118,  0.35294118,  0.4       ,  0.4       ,  0.4       ,\n",
       "         0.4       ,  0.4       ,  0.4       ,  0.42857143,  0.42857143]),\n",
       " array([ 0.35294118,  0.35294118,  0.4       ,  0.4       ,  0.4       ,\n",
       "         0.4       ,  0.4       ,  0.4       ,  0.42857143,  0.42857143]),\n",
       " array([ 0.52941176,  0.64705882,  0.73333333,  0.73333333,  0.46666667,\n",
       "         0.6       ,  0.66666667,  0.66666667,  0.42857143,  0.71428571]),\n",
       " array([ 0.35294118,  0.35294118,  0.4       ,  0.4       ,  0.4       ,\n",
       "         0.4       ,  0.4       ,  0.4       ,  0.42857143,  0.42857143]),\n",
       " array([ 0.35294118,  0.35294118,  0.4       ,  0.4       ,  0.4       ,\n",
       "         0.4       ,  0.4       ,  0.4       ,  0.42857143,  0.42857143]),\n",
       " array([ 0.52941176,  0.58823529,  0.6       ,  0.66666667,  0.6       ,\n",
       "         0.66666667,  0.6       ,  0.66666667,  0.42857143,  0.71428571])]"
      ]
     },
     "execution_count": 11,
     "metadata": {},
     "output_type": "execute_result"
    }
   ],
   "source": [
    "list_of_scores"
   ]
  },
  {
   "cell_type": "code",
   "execution_count": 12,
   "metadata": {
    "collapsed": false
   },
   "outputs": [
    {
     "data": {
      "text/plain": [
       "[0.39630252100840335,\n",
       " 0.39630252100840335,\n",
       " 0.39630252100840335,\n",
       " 0.39630252100840335,\n",
       " 0.39630252100840335,\n",
       " 0.61859943977591036,\n",
       " 0.39630252100840335,\n",
       " 0.39630252100840335,\n",
       " 0.60605042016806732]"
      ]
     },
     "execution_count": 12,
     "metadata": {},
     "output_type": "execute_result"
    }
   ],
   "source": [
    "avg = [x.mean() for x in list_of_scores]\n",
    "avg"
   ]
  },
  {
   "cell_type": "code",
   "execution_count": 26,
   "metadata": {
    "collapsed": true
   },
   "outputs": [],
   "source": [
    "gammas = [1e-5, 1e-4, 1e-3, 1, 1e3, 1e4, 1e5]\n",
    "C = [1e-5, 1e-4, 1e-3, 1, 1e3, 1e4, 1e5]"
   ]
  },
  {
   "cell_type": "code",
   "execution_count": 27,
   "metadata": {
    "collapsed": false
   },
   "outputs": [],
   "source": [
    "list_of_scores = []\n",
    "for g in gammas:\n",
    "    for one_C in C:\n",
    "        clf = svm.SVC(kernel='rbf', gamma=g, C=one_C)\n",
    "        scoring_function = 'accuracy'\n",
    "        scores = cross_validation.cross_val_score(clf, trainDataVecs, targetVec, cv=10, scoring=scoring_function)\n",
    "        list_of_scores.append(scores)"
   ]
  },
  {
   "cell_type": "code",
   "execution_count": 28,
   "metadata": {
    "collapsed": false
   },
   "outputs": [
    {
     "data": {
      "text/plain": [
       "[0.39630252100840335,\n",
       " 0.39630252100840335,\n",
       " 0.39630252100840335,\n",
       " 0.39630252100840335,\n",
       " 0.39630252100840335,\n",
       " 0.39630252100840335,\n",
       " 0.39630252100840335,\n",
       " 0.39630252100840335,\n",
       " 0.39630252100840335,\n",
       " 0.39630252100840335,\n",
       " 0.39630252100840335,\n",
       " 0.39630252100840335,\n",
       " 0.39630252100840335,\n",
       " 0.41011204481792712,\n",
       " 0.39630252100840335,\n",
       " 0.39630252100840335,\n",
       " 0.39630252100840335,\n",
       " 0.39630252100840335,\n",
       " 0.39630252100840335,\n",
       " 0.41011204481792712,\n",
       " 0.57921568627450981,\n",
       " 0.39630252100840335,\n",
       " 0.39630252100840335,\n",
       " 0.39630252100840335,\n",
       " 0.39630252100840335,\n",
       " 0.62574229691876748,\n",
       " 0.6508403361344538,\n",
       " 0.61686274509803918,\n",
       " 0.39630252100840335,\n",
       " 0.39630252100840335,\n",
       " 0.39630252100840335,\n",
       " 0.60016806722689087,\n",
       " 0.66008403361344536,\n",
       " 0.66008403361344536,\n",
       " 0.66008403361344536,\n",
       " 0.39630252100840335,\n",
       " 0.39630252100840335,\n",
       " 0.39630252100840335,\n",
       " 0.64826330532212884,\n",
       " 0.72067226890756297,\n",
       " 0.72067226890756297,\n",
       " 0.72067226890756297,\n",
       " 0.39630252100840335,\n",
       " 0.39630252100840335,\n",
       " 0.39630252100840335,\n",
       " 0.39630252100840335,\n",
       " 0.39630252100840335,\n",
       " 0.39630252100840335,\n",
       " 0.39630252100840335]"
      ]
     },
     "execution_count": 28,
     "metadata": {},
     "output_type": "execute_result"
    }
   ],
   "source": [
    "avg = [x.mean() for x in list_of_scores]\n",
    "avg"
   ]
  },
  {
   "cell_type": "code",
   "execution_count": null,
   "metadata": {
    "collapsed": true
   },
   "outputs": [],
   "source": []
  }
 ],
 "metadata": {
  "kernelspec": {
   "display_name": "Python 2",
   "language": "python",
   "name": "python2"
  },
  "language_info": {
   "codemirror_mode": {
    "name": "ipython",
    "version": 2
   },
   "file_extension": ".py",
   "mimetype": "text/x-python",
   "name": "python",
   "nbconvert_exporter": "python",
   "pygments_lexer": "ipython2",
   "version": "2.7.6"
  }
 },
 "nbformat": 4,
 "nbformat_minor": 0
}
