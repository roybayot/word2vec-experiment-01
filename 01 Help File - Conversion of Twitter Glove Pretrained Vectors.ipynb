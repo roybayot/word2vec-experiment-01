{
 "cells": [
  {
   "cell_type": "code",
   "execution_count": 50,
   "metadata": {
    "collapsed": false
   },
   "outputs": [
    {
     "data": {
      "text/plain": [
       "'This is before I turned it into a script. Most of this file has been patterned from github.com/manasRK/glove-gensim'"
      ]
     },
     "execution_count": 50,
     "metadata": {},
     "output_type": "execute_result"
    }
   ],
   "source": [
    "\"\"\"This is before I turned it into a script. Most of this file has been patterned from github.com/manasRK/glove-gensim\"\"\""
   ]
  },
  {
   "cell_type": "code",
   "execution_count": 51,
   "metadata": {
    "collapsed": true
   },
   "outputs": [],
   "source": [
    "import gensim\n",
    "import sys\n",
    "import getopt"
   ]
  },
  {
   "cell_type": "code",
   "execution_count": 52,
   "metadata": {
    "collapsed": true
   },
   "outputs": [],
   "source": [
    "def getNumLines(inputFile):\n",
    "    num_lines = sum(1 for line in open(inputFile))\n",
    "    return num_lines"
   ]
  },
  {
   "cell_type": "code",
   "execution_count": 53,
   "metadata": {
    "collapsed": true
   },
   "outputs": [],
   "source": [
    "def getNumDims(inputFile):\n",
    "    a = open(inputFile)\n",
    "    oneLine = a.readline()\n",
    "    listOfTermsInLine = oneLine.split(\" \")\n",
    "    lenOneLine = len(listOfTermsInLine)\n",
    "    dim = lenOneLine-1\n",
    "    a.close()\n",
    "    return dim"
   ]
  },
  {
   "cell_type": "code",
   "execution_count": 54,
   "metadata": {
    "collapsed": true
   },
   "outputs": [],
   "source": [
    "def writeTempLengthFile(numLines, numDims):\n",
    "    temp_file = \"temp_file_with_length\"\n",
    "    with open(temp_file,'w') as f:\n",
    "        f.write(str(numLines)+ \" \" +str(numDims) + '\\n')\n",
    "    f.close()\n",
    "    \n",
    "    return temp_file"
   ]
  },
  {
   "cell_type": "code",
   "execution_count": 55,
   "metadata": {
    "collapsed": true
   },
   "outputs": [],
   "source": [
    "def writeConvertedFile(inputFile, tempFile, outputFile):\n",
    "    filenames = [tempFile, inputFile]\n",
    "    \n",
    "    with open(outputFile, 'w') as outfile:\n",
    "        for fname in filenames:\n",
    "            with open(fname) as infile:\n",
    "                for line in infile:\n",
    "                    outfile.write(line)\n",
    "    outfile.close()\n",
    "    return 0\n"
   ]
  },
  {
   "cell_type": "code",
   "execution_count": 56,
   "metadata": {
    "collapsed": false
   },
   "outputs": [],
   "source": [
    "def getRelevantFiles(argv):\n",
    "   inputFile = ''\n",
    "   outputFile = ''\n",
    "   try:\n",
    "      opts, args = getopt.getopt(argv,\"hi:o:\",[\"ifile=\",\"ofile=\"])\n",
    "   except getopt.GetoptError:\n",
    "      print './makeTwitterGloveFileCompatibleForGensim.py -i <input file> -o <output file>'\n",
    "      print 'The input file is one of the models from http://nlp.stanford.edu/data/glove.twitter.27B.zip.\\nThe output file is just a name for your output file.'\n",
    "      sys.exit(2)\n",
    "   for opt, arg in opts:\n",
    "      if opt == '-h':\n",
    "         print './makeTwitterGloveFileCompatibleForGensim.py -i <input file> -o <output file>'\n",
    "         print 'The input directory should contain all the training files. \\nThe output directory will be where the models are stored.'\n",
    "         sys.exit()\n",
    "      elif opt in (\"-i\", \"--ifile\"):\n",
    "         inputFile = arg\n",
    "      elif opt in (\"-o\", \"--ofile\"):\n",
    "         outputFile = arg   \n",
    "   return inputFile, outputFile"
   ]
  },
  {
   "cell_type": "code",
   "execution_count": 57,
   "metadata": {
    "collapsed": false
   },
   "outputs": [
    {
     "ename": "SyntaxError",
     "evalue": "invalid syntax (<ipython-input-57-cb58dcb532b4>, line 7)",
     "output_type": "error",
     "traceback": [
      "\u001b[1;36m  File \u001b[1;32m\"<ipython-input-57-cb58dcb532b4>\"\u001b[1;36m, line \u001b[1;32m7\u001b[0m\n\u001b[1;33m    tempFile = writeTempLengthFile(numLines, numDims):\u001b[0m\n\u001b[1;37m                                                     ^\u001b[0m\n\u001b[1;31mSyntaxError\u001b[0m\u001b[1;31m:\u001b[0m invalid syntax\n"
     ]
    }
   ],
   "source": [
    "def main(argv):\n",
    "    #inputFile, outputFile = getRelevantFiles(argv)\n",
    "    inputFile = \"glove.twitter.27B.25d.txt\"    \n",
    "    numLines = getNumLines(inputFile)\n",
    "    numDims = getNumDims(inputFile)\n",
    "    \n",
    "    tempFile = writeTempLengthFile(numLines, numDims):\n",
    "    x = writeConvertedFile(inputFile, tempFile, outputFile)"
   ]
  },
  {
   "cell_type": "code",
   "execution_count": 58,
   "metadata": {
    "collapsed": false
   },
   "outputs": [],
   "source": [
    "if __name__ == \"__main__\":\n",
    "   main(sys.argv[1:])"
   ]
  },
  {
   "cell_type": "code",
   "execution_count": null,
   "metadata": {
    "collapsed": true
   },
   "outputs": [],
   "source": []
  },
  {
   "cell_type": "code",
   "execution_count": null,
   "metadata": {
    "collapsed": false
   },
   "outputs": [],
   "source": []
  },
  {
   "cell_type": "code",
   "execution_count": null,
   "metadata": {
    "collapsed": false
   },
   "outputs": [],
   "source": []
  },
  {
   "cell_type": "code",
   "execution_count": null,
   "metadata": {
    "collapsed": false
   },
   "outputs": [],
   "source": []
  },
  {
   "cell_type": "code",
   "execution_count": null,
   "metadata": {
    "collapsed": false
   },
   "outputs": [],
   "source": []
  },
  {
   "cell_type": "code",
   "execution_count": null,
   "metadata": {
    "collapsed": true
   },
   "outputs": [],
   "source": []
  }
 ],
 "metadata": {
  "kernelspec": {
   "display_name": "Python 2",
   "language": "python",
   "name": "python2"
  },
  "language_info": {
   "codemirror_mode": {
    "name": "ipython",
    "version": 2
   },
   "file_extension": ".py",
   "mimetype": "text/x-python",
   "name": "python",
   "nbconvert_exporter": "python",
   "pygments_lexer": "ipython2",
   "version": "2.7.6"
  }
 },
 "nbformat": 4,
 "nbformat_minor": 0
}
